{
 "cells": [
  {
   "cell_type": "markdown",
   "id": "50b2812c",
   "metadata": {},
   "source": [
    "# Employee Attrition Analysis – Green Destinations"
   ]
  },
  {
   "cell_type": "markdown",
   "id": "e834053e",
   "metadata": {},
   "source": [
    "\n",
    "This project analyzes employee attrition data from **Green Destinations**.  \n",
    "We will calculate attrition rate and explore how factors like **Age, Years at Company, and Monthly Income** impact attrition.\n"
   ]
  },
  {
   "cell_type": "code",
   "execution_count": null,
   "id": "3f588ae4",
   "metadata": {},
   "outputs": [],
   "source": [
    "\n",
    "import pandas as pd\n",
    "import matplotlib.pyplot as plt\n",
    "import seaborn as sns\n",
    "\n",
    "# Display settings\n",
    "plt.style.use('seaborn-v0_8')\n",
    "sns.set_palette(\"Set2\")\n"
   ]
  },
  {
   "cell_type": "code",
   "execution_count": null,
   "id": "46cadc7d",
   "metadata": {},
   "outputs": [],
   "source": [
    "\n",
    "# Upload file in Colab\n",
    "from google.colab import files\n",
    "uploaded = files.upload()\n",
    "\n",
    "# Replace filename with your actual CSV name if different\n",
    "df = pd.read_csv(\"Green_Destinations.csv\")\n",
    "df.head()\n"
   ]
  },
  {
   "cell_type": "code",
   "execution_count": null,
   "id": "4a7a40b8",
   "metadata": {},
   "outputs": [],
   "source": [
    "\n",
    "df.info()\n",
    "df.describe()\n"
   ]
  },
  {
   "cell_type": "code",
   "execution_count": null,
   "id": "d5ba8bce",
   "metadata": {},
   "outputs": [],
   "source": [
    "\n",
    "attrition_rate = (df['Attrition'].value_counts(normalize=True)['Yes']) * 100\n",
    "print(f\"Attrition Rate: {attrition_rate:.2f}%\")\n"
   ]
  },
  {
   "cell_type": "code",
   "execution_count": null,
   "id": "6a5a913f",
   "metadata": {},
   "outputs": [],
   "source": [
    "\n",
    "plt.figure(figsize=(8,5))\n",
    "sns.histplot(data=df, x='Age', hue='Attrition', multiple='stack', bins=20)\n",
    "plt.title(\"Attrition by Age\")\n",
    "plt.show()\n"
   ]
  },
  {
   "cell_type": "code",
   "execution_count": null,
   "id": "bd02fb7e",
   "metadata": {},
   "outputs": [],
   "source": [
    "\n",
    "plt.figure(figsize=(8,5))\n",
    "sns.boxplot(x='Attrition', y='MonthlyIncome', data=df)\n",
    "plt.title(\"Attrition vs Monthly Income\")\n",
    "plt.show()\n"
   ]
  },
  {
   "cell_type": "code",
   "execution_count": null,
   "id": "d2f5fa43",
   "metadata": {},
   "outputs": [],
   "source": [
    "\n",
    "plt.figure(figsize=(8,5))\n",
    "sns.boxplot(x='Attrition', y='YearsAtCompany', data=df)\n",
    "plt.title(\"Attrition vs Years at Company\")\n",
    "plt.show()\n"
   ]
  },
  {
   "cell_type": "code",
   "execution_count": null,
   "id": "14dbbe16",
   "metadata": {},
   "outputs": [],
   "source": [
    "\n",
    "plt.figure(figsize=(8,5))\n",
    "sns.countplot(x='Department', hue='Attrition', data=df)\n",
    "plt.title(\"Attrition by Department\")\n",
    "plt.xticks(rotation=45)\n",
    "plt.show()\n"
   ]
  },
  {
   "cell_type": "code",
   "execution_count": null,
   "id": "a50e7251",
   "metadata": {},
   "outputs": [],
   "source": [
    "\n",
    "print(\"Average Age of employees who left:\", df[df['Attrition']=='Yes']['Age'].mean())\n",
    "print(\"Average YearsAtCompany of employees who left:\", df[df['Attrition']=='Yes']['YearsAtCompany'].mean())\n",
    "print(\"Average MonthlyIncome of employees who left:\", df[df['Attrition']=='Yes']['MonthlyIncome'].mean())\n"
   ]
  }
 ],
 "metadata": {},
 "nbformat": 4,
 "nbformat_minor": 5
}
